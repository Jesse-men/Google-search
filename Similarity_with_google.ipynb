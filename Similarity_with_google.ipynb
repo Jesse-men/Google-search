{
  "nbformat": 4,
  "nbformat_minor": 0,
  "metadata": {
    "colab": {
      "provenance": []
    },
    "kernelspec": {
      "name": "python3",
      "display_name": "Python 3"
    },
    "language_info": {
      "name": "python"
    }
  },
  "cells": [
    {
      "cell_type": "code",
      "execution_count": null,
      "metadata": {
        "id": "mQx55FcuOh3h"
      },
      "outputs": [],
      "source": [
        "pip install pytrends"
      ]
    },
    {
      "cell_type": "code",
      "source": [
        "!pip install sentence-transformers\n",
        "from sentence_transformers import SentenceTransformer\n",
        "from sklearn.metrics.pairwise import cosine_similarity\n",
        "import pandas as pd                        \n",
        "from pytrends.request import TrendReq\n",
        "import numpy as np"
      ],
      "metadata": {
        "id": "J3u5LSzuPDe9"
      },
      "execution_count": null,
      "outputs": []
    },
    {
      "cell_type": "code",
      "source": [
        "pytrend = TrendReq()\n",
        "df = pytrend.trending_searches(pn='hong_kong')\n",
        "print(df)\n",
        "df.head(20)"
      ],
      "metadata": {
        "colab": {
          "base_uri": "https://localhost:8080/",
          "height": 1000
        },
        "id": "06LmDNbAv2FK",
        "outputId": "cee99fd9-aa5d-470b-acd8-69e613af3212"
      },
      "execution_count": 30,
      "outputs": [
        {
          "output_type": "stream",
          "name": "stdout",
          "text": [
            "             0\n",
            "0          SVB\n",
            "1         班頓費沙\n",
            "2           李强\n",
            "3        ViuTV\n",
            "4       Selina\n",
            "5        西線無戰事\n",
            "6     神奇女俠玩救宇宙\n",
            "7           曼城\n",
            "8          TAR\n",
            "9         大丸別莊\n",
            "10         RRR\n",
            "11       大江健三郎\n",
            "12         楊潤雄\n",
            "13         TÁR\n",
            "14      阿托品眼藥水\n",
            "15       領展供股權\n",
            "16         莫兰特\n",
            "17  保良局李兆基青年綠洲\n",
            "18         楊紫瓊\n",
            "19      亞洲電影大獎\n"
          ]
        },
        {
          "output_type": "execute_result",
          "data": {
            "text/plain": [
              "             0\n",
              "0          SVB\n",
              "1         班頓費沙\n",
              "2           李强\n",
              "3        ViuTV\n",
              "4       Selina\n",
              "5        西線無戰事\n",
              "6     神奇女俠玩救宇宙\n",
              "7           曼城\n",
              "8          TAR\n",
              "9         大丸別莊\n",
              "10         RRR\n",
              "11       大江健三郎\n",
              "12         楊潤雄\n",
              "13         TÁR\n",
              "14      阿托品眼藥水\n",
              "15       領展供股權\n",
              "16         莫兰特\n",
              "17  保良局李兆基青年綠洲\n",
              "18         楊紫瓊\n",
              "19      亞洲電影大獎"
            ],
            "text/html": [
              "\n",
              "  <div id=\"df-e71f81c6-2505-45e0-8a6e-59f8515ab4d5\">\n",
              "    <div class=\"colab-df-container\">\n",
              "      <div>\n",
              "<style scoped>\n",
              "    .dataframe tbody tr th:only-of-type {\n",
              "        vertical-align: middle;\n",
              "    }\n",
              "\n",
              "    .dataframe tbody tr th {\n",
              "        vertical-align: top;\n",
              "    }\n",
              "\n",
              "    .dataframe thead th {\n",
              "        text-align: right;\n",
              "    }\n",
              "</style>\n",
              "<table border=\"1\" class=\"dataframe\">\n",
              "  <thead>\n",
              "    <tr style=\"text-align: right;\">\n",
              "      <th></th>\n",
              "      <th>0</th>\n",
              "    </tr>\n",
              "  </thead>\n",
              "  <tbody>\n",
              "    <tr>\n",
              "      <th>0</th>\n",
              "      <td>SVB</td>\n",
              "    </tr>\n",
              "    <tr>\n",
              "      <th>1</th>\n",
              "      <td>班頓費沙</td>\n",
              "    </tr>\n",
              "    <tr>\n",
              "      <th>2</th>\n",
              "      <td>李强</td>\n",
              "    </tr>\n",
              "    <tr>\n",
              "      <th>3</th>\n",
              "      <td>ViuTV</td>\n",
              "    </tr>\n",
              "    <tr>\n",
              "      <th>4</th>\n",
              "      <td>Selina</td>\n",
              "    </tr>\n",
              "    <tr>\n",
              "      <th>5</th>\n",
              "      <td>西線無戰事</td>\n",
              "    </tr>\n",
              "    <tr>\n",
              "      <th>6</th>\n",
              "      <td>神奇女俠玩救宇宙</td>\n",
              "    </tr>\n",
              "    <tr>\n",
              "      <th>7</th>\n",
              "      <td>曼城</td>\n",
              "    </tr>\n",
              "    <tr>\n",
              "      <th>8</th>\n",
              "      <td>TAR</td>\n",
              "    </tr>\n",
              "    <tr>\n",
              "      <th>9</th>\n",
              "      <td>大丸別莊</td>\n",
              "    </tr>\n",
              "    <tr>\n",
              "      <th>10</th>\n",
              "      <td>RRR</td>\n",
              "    </tr>\n",
              "    <tr>\n",
              "      <th>11</th>\n",
              "      <td>大江健三郎</td>\n",
              "    </tr>\n",
              "    <tr>\n",
              "      <th>12</th>\n",
              "      <td>楊潤雄</td>\n",
              "    </tr>\n",
              "    <tr>\n",
              "      <th>13</th>\n",
              "      <td>TÁR</td>\n",
              "    </tr>\n",
              "    <tr>\n",
              "      <th>14</th>\n",
              "      <td>阿托品眼藥水</td>\n",
              "    </tr>\n",
              "    <tr>\n",
              "      <th>15</th>\n",
              "      <td>領展供股權</td>\n",
              "    </tr>\n",
              "    <tr>\n",
              "      <th>16</th>\n",
              "      <td>莫兰特</td>\n",
              "    </tr>\n",
              "    <tr>\n",
              "      <th>17</th>\n",
              "      <td>保良局李兆基青年綠洲</td>\n",
              "    </tr>\n",
              "    <tr>\n",
              "      <th>18</th>\n",
              "      <td>楊紫瓊</td>\n",
              "    </tr>\n",
              "    <tr>\n",
              "      <th>19</th>\n",
              "      <td>亞洲電影大獎</td>\n",
              "    </tr>\n",
              "  </tbody>\n",
              "</table>\n",
              "</div>\n",
              "      <button class=\"colab-df-convert\" onclick=\"convertToInteractive('df-e71f81c6-2505-45e0-8a6e-59f8515ab4d5')\"\n",
              "              title=\"Convert this dataframe to an interactive table.\"\n",
              "              style=\"display:none;\">\n",
              "        \n",
              "  <svg xmlns=\"http://www.w3.org/2000/svg\" height=\"24px\"viewBox=\"0 0 24 24\"\n",
              "       width=\"24px\">\n",
              "    <path d=\"M0 0h24v24H0V0z\" fill=\"none\"/>\n",
              "    <path d=\"M18.56 5.44l.94 2.06.94-2.06 2.06-.94-2.06-.94-.94-2.06-.94 2.06-2.06.94zm-11 1L8.5 8.5l.94-2.06 2.06-.94-2.06-.94L8.5 2.5l-.94 2.06-2.06.94zm10 10l.94 2.06.94-2.06 2.06-.94-2.06-.94-.94-2.06-.94 2.06-2.06.94z\"/><path d=\"M17.41 7.96l-1.37-1.37c-.4-.4-.92-.59-1.43-.59-.52 0-1.04.2-1.43.59L10.3 9.45l-7.72 7.72c-.78.78-.78 2.05 0 2.83L4 21.41c.39.39.9.59 1.41.59.51 0 1.02-.2 1.41-.59l7.78-7.78 2.81-2.81c.8-.78.8-2.07 0-2.86zM5.41 20L4 18.59l7.72-7.72 1.47 1.35L5.41 20z\"/>\n",
              "  </svg>\n",
              "      </button>\n",
              "      \n",
              "  <style>\n",
              "    .colab-df-container {\n",
              "      display:flex;\n",
              "      flex-wrap:wrap;\n",
              "      gap: 12px;\n",
              "    }\n",
              "\n",
              "    .colab-df-convert {\n",
              "      background-color: #E8F0FE;\n",
              "      border: none;\n",
              "      border-radius: 50%;\n",
              "      cursor: pointer;\n",
              "      display: none;\n",
              "      fill: #1967D2;\n",
              "      height: 32px;\n",
              "      padding: 0 0 0 0;\n",
              "      width: 32px;\n",
              "    }\n",
              "\n",
              "    .colab-df-convert:hover {\n",
              "      background-color: #E2EBFA;\n",
              "      box-shadow: 0px 1px 2px rgba(60, 64, 67, 0.3), 0px 1px 3px 1px rgba(60, 64, 67, 0.15);\n",
              "      fill: #174EA6;\n",
              "    }\n",
              "\n",
              "    [theme=dark] .colab-df-convert {\n",
              "      background-color: #3B4455;\n",
              "      fill: #D2E3FC;\n",
              "    }\n",
              "\n",
              "    [theme=dark] .colab-df-convert:hover {\n",
              "      background-color: #434B5C;\n",
              "      box-shadow: 0px 1px 3px 1px rgba(0, 0, 0, 0.15);\n",
              "      filter: drop-shadow(0px 1px 2px rgba(0, 0, 0, 0.3));\n",
              "      fill: #FFFFFF;\n",
              "    }\n",
              "  </style>\n",
              "\n",
              "      <script>\n",
              "        const buttonEl =\n",
              "          document.querySelector('#df-e71f81c6-2505-45e0-8a6e-59f8515ab4d5 button.colab-df-convert');\n",
              "        buttonEl.style.display =\n",
              "          google.colab.kernel.accessAllowed ? 'block' : 'none';\n",
              "\n",
              "        async function convertToInteractive(key) {\n",
              "          const element = document.querySelector('#df-e71f81c6-2505-45e0-8a6e-59f8515ab4d5');\n",
              "          const dataTable =\n",
              "            await google.colab.kernel.invokeFunction('convertToInteractive',\n",
              "                                                     [key], {});\n",
              "          if (!dataTable) return;\n",
              "\n",
              "          const docLinkHtml = 'Like what you see? Visit the ' +\n",
              "            '<a target=\"_blank\" href=https://colab.research.google.com/notebooks/data_table.ipynb>data table notebook</a>'\n",
              "            + ' to learn more about interactive tables.';\n",
              "          element.innerHTML = '';\n",
              "          dataTable['output_type'] = 'display_data';\n",
              "          await google.colab.output.renderOutput(dataTable, element);\n",
              "          const docLink = document.createElement('div');\n",
              "          docLink.innerHTML = docLinkHtml;\n",
              "          element.appendChild(docLink);\n",
              "        }\n",
              "      </script>\n",
              "    </div>\n",
              "  </div>\n",
              "  "
            ]
          },
          "metadata": {},
          "execution_count": 30
        }
      ]
    },
    {
      "cell_type": "code",
      "source": [
        "eyecream = ['撫紋',\n",
        " '早睡早起',\n",
        " '眼霜',\n",
        " '皺紋',\n",
        " '眼紋',\n",
        " '抗皺',\n",
        " '紋細紋',\n",
        " '修護',\n",
        " '光澤滋潤',\n",
        " '最強',\n",
        " '無紋',\n",
        " '護膚',\n",
        " '除眼袋',\n",
        " '滋潤眼',\n",
        " '睡覺']"
      ],
      "metadata": {
        "id": "-2tP40V7qjW3"
      },
      "execution_count": 31,
      "outputs": []
    },
    {
      "cell_type": "code",
      "source": [
        "model = SentenceTransformer('distiluse-base-multilingual-cased-v1')\n",
        "doc_embedding = model.encode(df)\n",
        "candidate_embeddings = model.encode(eyecream)"
      ],
      "metadata": {
        "id": "qq10-fTfsSQg"
      },
      "execution_count": 32,
      "outputs": []
    },
    {
      "cell_type": "code",
      "source": [
        "distances = cosine_similarity(doc_embedding, candidate_embeddings)\n",
        "#top_n = 15\n",
        "#keywords = [eyecream[index] for index in distances.argsort()[0][-top_n:]]"
      ],
      "metadata": {
        "id": "swm_g3HtrPqg"
      },
      "execution_count": 33,
      "outputs": []
    },
    {
      "cell_type": "code",
      "source": [
        "list1 = list(eyecream)\n",
        "list2 = list(np.concatenate(distances.reshape((-1, 1), order=\"F\")))\n",
        "tuple1=zip(list1,list2)\n",
        "List1=[]\n",
        "for i in tuple1:\n",
        "  List1.append(i)\n",
        "#List1.sort(key=lambda tup: tup[1], reverse=True)\n",
        "print(\"keywords and similarities：\", List1)"
      ],
      "metadata": {
        "colab": {
          "base_uri": "https://localhost:8080/"
        },
        "id": "HI6psheTprTO",
        "outputId": "75a63786-776b-40c7-bc72-c4b3d2173666"
      },
      "execution_count": 34,
      "outputs": [
        {
          "output_type": "stream",
          "name": "stdout",
          "text": [
            "keywords and similarities： [('撫紋', 0.2118174), ('早睡早起', 0.17023598), ('眼霜', 0.21986091), ('皺紋', 0.22654906), ('眼紋', 0.19498838), ('抗皺', 0.19215831), ('紋細紋', 0.24571645), ('修護', 0.21493727), ('光澤滋潤', 0.28129262), ('最強', 0.18030286), ('無紋', 0.2427625), ('護膚', 0.21241048), ('除眼袋', 0.25976184), ('滋潤眼', 0.28278595), ('睡覺', 0.26964825)]\n"
          ]
        }
      ]
    }
  ]
}